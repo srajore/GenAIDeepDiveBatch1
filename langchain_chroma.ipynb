{
 "cells": [
  {
   "cell_type": "code",
   "execution_count": 7,
   "id": "f6d4b65a",
   "metadata": {},
   "outputs": [],
   "source": [
    "from langchain.schema import Document\n",
    "#from langchain.vectorstores import Chroma\n",
    "#from langchain_community.vectorstores import Chroma\n",
    "#from langchain_community.vectorstores import FAISS\n",
    "from langchain_chroma import Chroma\n",
    "from langchain_ollama import OllamaEmbeddings"
   ]
  },
  {
   "cell_type": "code",
   "execution_count": null,
   "id": "01d24bcf",
   "metadata": {},
   "outputs": [],
   "source": [
    "#from langchain_pinecone import PineconeVectorStore"
   ]
  },
  {
   "cell_type": "code",
   "execution_count": 8,
   "id": "57b6fbaf",
   "metadata": {},
   "outputs": [],
   "source": [
    "document1= Document(\n",
    "    page_content='Virat kohli is one of the most successful and consistant batsman in the world. He has scored more than 70 international centuries and is known for his aggressive batting style.',\n",
    "    metadata={'team':'Royal Challengers Bangalore'}\n",
    ")\n",
    "\n",
    "document2 = Document(\n",
    "    page_content='Rohit Sharma is a prolific run-scorer and one of India’s finest opening batsmen. He holds the record for the highest individual score in an ODI match with 264 runs and is known for his elegant batting style.',\n",
    "    metadata={'team': 'Mumbai Indians'}\n",
    ")\n",
    "\n",
    "document3 = Document(\n",
    "    page_content='Suryakumar Yadav is a dynamic middle-order batsman known for his explosive 360-degree batting style. He has been a key player for Mumbai Indians',\n",
    "    metadata={'team': 'Mumbai Indians'}\n",
    ")\n",
    "\n",
    "document4 = Document(\n",
    "    page_content='Jasprit Bumrah is one of the world’s premier fast bowlers, known for his unique bowling action and deadly yorkers. He has been a key figure in Mumbai Indians’ bowling attack in the IPL.',\n",
    "    metadata={'team': 'Mumbai Indians'}\n",
    ")\n",
    "\n",
    "document5 = Document(\n",
    "    page_content='Yuzvendra Chahal is a crafty leg-spinner known for his wicket-taking ability in the middle overs. He has been a standout performer for Rajasthan Royals, often turning matches with his variations.',\n",
    "    metadata={'team': 'Rajasthan Royals'}\n",
    ")"
   ]
  },
  {
   "cell_type": "code",
   "execution_count": 9,
   "id": "1d23bf35",
   "metadata": {},
   "outputs": [],
   "source": [
    "documents = [document1, document2, document3, document4, document5]"
   ]
  },
  {
   "cell_type": "code",
   "execution_count": null,
   "id": "f451cd7b",
   "metadata": {},
   "outputs": [],
   "source": [
    "#vector_store=FAISS.from_documents(\n",
    "#    documents=documents,\n",
    "#    embedding=OllamaEmbeddings(model=\"granite-embedding:latest\"),\n",
    "#)"
   ]
  },
  {
   "cell_type": "code",
   "execution_count": null,
   "id": "b1ab33a7",
   "metadata": {},
   "outputs": [],
   "source": [
    "#docs_id = list(vector_store.docstore._dict.keys())  # List the keys in the docstore"
   ]
  },
  {
   "cell_type": "code",
   "execution_count": null,
   "id": "0b9b35ca",
   "metadata": {},
   "outputs": [],
   "source": [
    "#docs_id"
   ]
  },
  {
   "cell_type": "code",
   "execution_count": 10,
   "id": "0f0b198d",
   "metadata": {},
   "outputs": [],
   "source": [
    "vector_store = Chroma(\n",
    "    embedding_function=OllamaEmbeddings(model=\"granite-embedding:latest\"),\n",
    "    persist_directory='my_chroma_db',\n",
    "    collection_name='sample_collection'\n",
    ")"
   ]
  },
  {
   "cell_type": "code",
   "execution_count": 11,
   "id": "19de0d43",
   "metadata": {},
   "outputs": [
    {
     "data": {
      "text/plain": [
       "['ade81e1c-5904-46c9-8751-c326ee361519',\n",
       " '1cfceafe-4db7-4966-88ad-eaa25361c0ea',\n",
       " 'd36ea020-cc2b-43d2-8adf-500fd2022461',\n",
       " 'a6f82246-bf95-4849-af33-9912d794eab6',\n",
       " 'e355c8af-c046-472f-a987-25a2b45cb074']"
      ]
     },
     "execution_count": 11,
     "metadata": {},
     "output_type": "execute_result"
    }
   ],
   "source": [
    "vector_store.add_documents(documents)"
   ]
  },
  {
   "cell_type": "code",
   "execution_count": 32,
   "id": "b2b6f9f8",
   "metadata": {},
   "outputs": [
    {
     "data": {
      "text/plain": [
       "{'ids': ['4e689cd5-bfaa-4490-9893-4a871d2e0187',\n",
       "  '870a37ee-e6bd-4171-b6ae-be2189cb5428',\n",
       "  '38e58ca3-a657-468c-b99d-9d7d1bf93ee1',\n",
       "  'def0cf8d-97ab-4a9b-b910-0c7f607544e0',\n",
       "  'fb1136f9-fe7e-4edf-95ff-90ca68efb3aa',\n",
       "  'e6ed1236-d63b-49eb-8043-8dee9a717ba7',\n",
       "  '15bfbc81-7d3a-4f41-82ec-136e94031d3e',\n",
       "  '224431a3-3145-46b7-8ae4-ae85b3b7b5bb',\n",
       "  'e722ed3a-220e-4416-ae27-180cb1506aa3',\n",
       "  '7205b274-c63c-4b4b-b881-3b0c4696e6ad',\n",
       "  '0ed1ea50-2252-4fa0-8659-b5e28e323387',\n",
       "  '184999be-bd27-47f6-bace-df4fc0c20709',\n",
       "  '594ff178-f8a7-45a5-b25b-9f4e2e8b001f',\n",
       "  '31af4a2d-54d7-494d-b8f3-bdbe2ece30cf',\n",
       "  'aac7ec40-8f12-4b38-8241-bc5d8ccd4f53'],\n",
       " 'embeddings': array([[-0.06729823,  0.04925163, -0.01431002, ..., -0.00161683,\n",
       "         -0.22471753,  0.0030772 ],\n",
       "        [-0.04183477,  0.00723961, -0.01118425, ...,  0.03775956,\n",
       "         -0.17747881,  0.02490845],\n",
       "        [-0.06239516,  0.04664835, -0.0011876 , ..., -0.04723474,\n",
       "         -0.17475499,  0.04793738],\n",
       "        ...,\n",
       "        [-0.06239516,  0.04664835, -0.0011876 , ..., -0.04723474,\n",
       "         -0.17475499,  0.04793738],\n",
       "        [-0.02868176,  0.03160722, -0.01052515, ...,  0.04515373,\n",
       "         -0.17501667,  0.00788392],\n",
       "        [-0.01576621,  0.01271153, -0.02873345, ..., -0.01543731,\n",
       "         -0.19612692,  0.03034222]], shape=(15, 384)),\n",
       " 'documents': ['Virat kohli is one of the most successful and consistant batsman in the world. He has scored more than 70 international centuries and is known for his aggressive batting style.',\n",
       "  'Rohit Sharma is a prolific run-scorer and one of India’s finest opening batsmen. He holds the record for the highest individual score in an ODI match with 264 runs and is known for his elegant batting style.',\n",
       "  'Suryakumar Yadav is a dynamic middle-order batsman known for his explosive 360-degree batting style. He has been a key player for Mumbai Indians, consistently delivering match-winning performances.',\n",
       "  'Jasprit Bumrah is one of the world’s premier fast bowlers, known for his unique bowling action and deadly yorkers. He has been a key figure in Mumbai Indians’ bowling attack in the IPL.',\n",
       "  'Yuzvendra Chahal is a crafty leg-spinner known for his wicket-taking ability in the middle overs. He has been a standout performer for Rajasthan Royals, often turning matches with his variations.',\n",
       "  'Virat kohli is one of the most successful and consistant batsman in the world. He has scored more than 70 international centuries and is known for his aggressive batting style.',\n",
       "  'Rohit Sharma is a prolific run-scorer and one of India’s finest opening batsmen. He holds the record for the highest individual score in an ODI match with 264 runs and is known for his elegant batting style.',\n",
       "  'Suryakumar Yadav is a dynamic middle-order batsman known for his explosive 360-degree batting style. He has been a key player for Mumbai Indians, consistently delivering match-winning performances.',\n",
       "  'Jasprit Bumrah is one of the world’s premier fast bowlers, known for his unique bowling action and deadly yorkers. He has been a key figure in Mumbai Indians’ bowling attack in the IPL.',\n",
       "  'Yuzvendra Chahal is a crafty leg-spinner known for his wicket-taking ability in the middle overs. He has been a standout performer for Rajasthan Royals, often turning matches with his variations.',\n",
       "  'Virat kohli is one of the most successful and consistant batsman in the world. He has scored more than 70 international centuries and is known for his aggressive batting style.',\n",
       "  'Rohit Sharma is a prolific run-scorer and one of India’s finest opening batsmen. He holds the record for the highest individual score in an ODI match with 264 runs and is known for his elegant batting style.',\n",
       "  'Suryakumar Yadav is a dynamic middle-order batsman known for his explosive 360-degree batting style. He has been a key player for Mumbai Indians, consistently delivering match-winning performances.',\n",
       "  'Jasprit Bumrah is one of the world’s premier fast bowlers, known for his unique bowling action and deadly yorkers. He has been a key figure in Mumbai Indians’ bowling attack in the IPL.',\n",
       "  'Yuzvendra Chahal is a crafty leg-spinner known for his wicket-taking ability in the middle overs. He has been a standout performer for Rajasthan Royals, often turning matches with his variations.'],\n",
       " 'uris': None,\n",
       " 'included': ['embeddings', 'documents', 'metadatas'],\n",
       " 'data': None,\n",
       " 'metadatas': [{'team': 'Royal Challengers Bangalore'},\n",
       "  {'team': 'Mumbai Indians'},\n",
       "  {'team': 'Mumbai Indians'},\n",
       "  {'team': 'Mumbai Indians'},\n",
       "  {'team': 'Rajasthan Royals'},\n",
       "  {'team': 'Royal Challengers Bangalore'},\n",
       "  {'team': 'Mumbai Indians'},\n",
       "  {'team': 'Mumbai Indians'},\n",
       "  {'team': 'Mumbai Indians'},\n",
       "  {'team': 'Rajasthan Royals'},\n",
       "  {'team': 'Royal Challengers Bangalore'},\n",
       "  {'team': 'Mumbai Indians'},\n",
       "  {'team': 'Mumbai Indians'},\n",
       "  {'team': 'Mumbai Indians'},\n",
       "  {'team': 'Rajasthan Royals'}]}"
      ]
     },
     "execution_count": 32,
     "metadata": {},
     "output_type": "execute_result"
    }
   ],
   "source": [
    "vector_store.get(include=['embeddings','documents','metadatas'])"
   ]
  },
  {
   "cell_type": "code",
   "execution_count": null,
   "id": "4b8854fc",
   "metadata": {},
   "outputs": [],
   "source": [
    "#from langchain_pinecone import PineconeVectorStore\n",
    "#from langchain_openai import OpenAIEmbeddings\n",
    "#import os\n",
    "#from dotenv import load_dotenv\n",
    "#load_dotenv(override=True)\n",
    "#os.environ[\"PINECONE_API_KEY\"] = \"pcsk_AWPXD_AVuNtBvmC45u3yWAHrvUX6Vgz5RUA3RA7bu9L37u4nEF4jXQd59fDn7oUxrQsnk\"\n",
    "#os.environ[\"PINECONE_ENVIRONMENT\"] = \"us-east-1\" # e.g., \"us-west-2\"\n",
    "\n",
    "#embeddings = OpenAIEmbeddings()\n",
    "#index_name = \"testgenai\"\n",
    "\n",
    "#vector_store = PineconeVectorStore(index_name=index_name, embedding=embeddings)"
   ]
  },
  {
   "cell_type": "code",
   "execution_count": null,
   "id": "a9b43bc4",
   "metadata": {},
   "outputs": [],
   "source": [
    "#vector_store.add_documents(documents)"
   ]
  },
  {
   "cell_type": "code",
   "execution_count": 12,
   "id": "856051f8",
   "metadata": {},
   "outputs": [
    {
     "data": {
      "text/plain": [
       "[Document(id='b60b3702-4636-43be-ae65-587aed9a0a27', metadata={'team': 'Mumbai Indians'}, page_content='Jasprit Bumrah is one of the world’s premier fast bowlers, known for his unique bowling action and deadly yorkers. He has been a key figure in Mumbai Indians’ bowling attack in the IPL.'),\n",
       " Document(id='a6f82246-bf95-4849-af33-9912d794eab6', metadata={'team': 'Mumbai Indians'}, page_content='Jasprit Bumrah is one of the world’s premier fast bowlers, known for his unique bowling action and deadly yorkers. He has been a key figure in Mumbai Indians’ bowling attack in the IPL.')]"
      ]
     },
     "execution_count": 12,
     "metadata": {},
     "output_type": "execute_result"
    }
   ],
   "source": [
    "vector_store.similarity_search(\n",
    "    query='Who among these are the bowlers',\n",
    "    k=2\n",
    ")"
   ]
  },
  {
   "cell_type": "code",
   "execution_count": null,
   "id": "e9a4fb6a",
   "metadata": {},
   "outputs": [],
   "source": [
    "vector_store.similarity_search_with_score(\n",
    "    query='Who among these are the bowlers',\n",
    "    k=2\n",
    ")"
   ]
  }
 ],
 "metadata": {
  "kernelspec": {
   "display_name": "GenAIDeepDiveBatch1",
   "language": "python",
   "name": "python3"
  },
  "language_info": {
   "codemirror_mode": {
    "name": "ipython",
    "version": 3
   },
   "file_extension": ".py",
   "mimetype": "text/x-python",
   "name": "python",
   "nbconvert_exporter": "python",
   "pygments_lexer": "ipython3",
   "version": "3.10.11"
  }
 },
 "nbformat": 4,
 "nbformat_minor": 5
}
