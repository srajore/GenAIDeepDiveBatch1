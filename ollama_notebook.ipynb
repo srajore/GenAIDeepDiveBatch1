{
 "cells": [
  {
   "cell_type": "code",
   "execution_count": 2,
   "id": "6099ea25",
   "metadata": {},
   "outputs": [],
   "source": [
    "from langchain_ollama.chat_models import ChatOllama"
   ]
  },
  {
   "cell_type": "code",
   "execution_count": 3,
   "id": "2ff17b68",
   "metadata": {},
   "outputs": [],
   "source": [
    "llm = ChatOllama(model=\"llama3.2:latest\")"
   ]
  },
  {
   "cell_type": "code",
   "execution_count": 4,
   "id": "77f13151",
   "metadata": {},
   "outputs": [],
   "source": [
    "response = llm.invoke(\"write a code to print hello in python\")"
   ]
  },
  {
   "cell_type": "code",
   "execution_count": 6,
   "id": "f1967d2c",
   "metadata": {},
   "outputs": [
    {
     "name": "stdout",
     "output_type": "stream",
     "text": [
      "Here is a simple Python program that prints \"Hello\":\n",
      "\n",
      "```python\n",
      "# Print Hello\n",
      "\n",
      "print(\"Hello\")\n",
      "```\n",
      "\n",
      "This will output:\n",
      "\n",
      "```\n",
      "Hello\n",
      "```\n",
      "\n",
      "Explanation:\n",
      "- `print()` is a built-in function in Python used to display output on the screen.\n",
      "- When you put a string (like `\"Hello\"`) inside the `print()` function, it prints that string.\n"
     ]
    }
   ],
   "source": [
    "print(response.content)"
   ]
  }
 ],
 "metadata": {
  "kernelspec": {
   "display_name": "GenAIDeepDiveBatch1",
   "language": "python",
   "name": "python3"
  },
  "language_info": {
   "codemirror_mode": {
    "name": "ipython",
    "version": 3
   },
   "file_extension": ".py",
   "mimetype": "text/x-python",
   "name": "python",
   "nbconvert_exporter": "python",
   "pygments_lexer": "ipython3",
   "version": "3.10.11"
  }
 },
 "nbformat": 4,
 "nbformat_minor": 5
}
